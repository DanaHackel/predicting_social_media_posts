{
 "cells": [
  {
   "cell_type": "markdown",
   "metadata": {},
   "source": [
    "# K Nearest Neighbors with stop words removed\n",
    "\n",
    "Use the parameters as determined by the Grid Search from notebook 3"
   ]
  },
  {
   "cell_type": "code",
   "execution_count": 1,
   "metadata": {},
   "outputs": [],
   "source": [
    "# Pipeline(memory=None,\n",
    "#          steps=[('cvec',\n",
    "#                  CountVectorizer(analyzer='word', binary=False,\n",
    "#                                  decode_error='strict',\n",
    "#                                  dtype=<class 'numpy.int64'>, encoding='utf-8',\n",
    "#                                  input='content', lowercase=True, max_df=0.9,\n",
    "#                                  max_features=2000, min_df=2,\n",
    "#                                  ngram_range=(1, 2), preprocessor=None,\n",
    "#                                  stop_words=None, strip_accents=None,\n",
    "#                                  token_pattern='(?u)\\\\b\\\\w\\\\w+\\\\b',\n",
    "#                                  tokenizer=None, vocabulary=None)),\n",
    "#                 ('knn',\n",
    "#                  KNeighborsClassifier(algorithm='auto', leaf_size=30,\n",
    "#                                       metric='euclidean', metric_params=None,\n",
    "#                                       n_jobs=None, n_neighbors=6, p=2,\n",
    "#                                       weights='uniform'))],\n",
    "#          verbose=False)"
   ]
  },
  {
   "cell_type": "code",
   "execution_count": 2,
   "metadata": {},
   "outputs": [],
   "source": [
    "import pandas as pd\n",
    "import numpy as np\n",
    "from sklearn.model_selection import train_test_split\n",
    "from sklearn.neighbors import KNeighborsClassifier"
   ]
  },
  {
   "cell_type": "markdown",
   "metadata": {},
   "source": [
    "Import csv from notebook 4 - includes vectorized words, no stop words"
   ]
  },
  {
   "cell_type": "code",
   "execution_count": 3,
   "metadata": {},
   "outputs": [
    {
     "data": {
      "text/html": [
       "<div>\n",
       "<style scoped>\n",
       "    .dataframe tbody tr th:only-of-type {\n",
       "        vertical-align: middle;\n",
       "    }\n",
       "\n",
       "    .dataframe tbody tr th {\n",
       "        vertical-align: top;\n",
       "    }\n",
       "\n",
       "    .dataframe thead th {\n",
       "        text-align: right;\n",
       "    }\n",
       "</style>\n",
       "<table border=\"1\" class=\"dataframe\">\n",
       "  <thead>\n",
       "    <tr style=\"text-align: right;\">\n",
       "      <th></th>\n",
       "      <th>Unnamed: 0</th>\n",
       "      <th>author</th>\n",
       "      <th>subreddit</th>\n",
       "      <th>title</th>\n",
       "      <th>000</th>\n",
       "      <th>0320</th>\n",
       "      <th>08</th>\n",
       "      <th>10</th>\n",
       "      <th>100</th>\n",
       "      <th>10th</th>\n",
       "      <th>...</th>\n",
       "      <th>வந</th>\n",
       "      <th>வன</th>\n",
       "      <th>வமன</th>\n",
       "      <th>வர</th>\n",
       "      <th>வரத</th>\n",
       "      <th>வல</th>\n",
       "      <th>வழ</th>\n",
       "      <th>வழக</th>\n",
       "      <th>வழங</th>\n",
       "      <th>ஷன</th>\n",
       "    </tr>\n",
       "  </thead>\n",
       "  <tbody>\n",
       "    <tr>\n",
       "      <th>0</th>\n",
       "      <td>0</td>\n",
       "      <td>ManofTheNightsWatch</td>\n",
       "      <td>0</td>\n",
       "      <td>Severely Injured Woman Heroically Fights Off P...</td>\n",
       "      <td>0</td>\n",
       "      <td>0</td>\n",
       "      <td>0</td>\n",
       "      <td>0</td>\n",
       "      <td>0</td>\n",
       "      <td>0</td>\n",
       "      <td>...</td>\n",
       "      <td>0</td>\n",
       "      <td>0</td>\n",
       "      <td>0</td>\n",
       "      <td>0</td>\n",
       "      <td>0</td>\n",
       "      <td>0</td>\n",
       "      <td>0</td>\n",
       "      <td>0</td>\n",
       "      <td>0</td>\n",
       "      <td>0</td>\n",
       "    </tr>\n",
       "    <tr>\n",
       "      <th>1</th>\n",
       "      <td>1</td>\n",
       "      <td>Sanlear</td>\n",
       "      <td>0</td>\n",
       "      <td>Frat President Chews Out Brothers Infected Wit...</td>\n",
       "      <td>0</td>\n",
       "      <td>0</td>\n",
       "      <td>0</td>\n",
       "      <td>0</td>\n",
       "      <td>0</td>\n",
       "      <td>0</td>\n",
       "      <td>...</td>\n",
       "      <td>0</td>\n",
       "      <td>0</td>\n",
       "      <td>0</td>\n",
       "      <td>0</td>\n",
       "      <td>0</td>\n",
       "      <td>0</td>\n",
       "      <td>0</td>\n",
       "      <td>0</td>\n",
       "      <td>0</td>\n",
       "      <td>0</td>\n",
       "    </tr>\n",
       "    <tr>\n",
       "      <th>2</th>\n",
       "      <td>2</td>\n",
       "      <td>aresef</td>\n",
       "      <td>0</td>\n",
       "      <td>Jim Harbaugh Annoyed He Only Got $5.89 For Sel...</td>\n",
       "      <td>0</td>\n",
       "      <td>0</td>\n",
       "      <td>0</td>\n",
       "      <td>0</td>\n",
       "      <td>0</td>\n",
       "      <td>0</td>\n",
       "      <td>...</td>\n",
       "      <td>0</td>\n",
       "      <td>0</td>\n",
       "      <td>0</td>\n",
       "      <td>0</td>\n",
       "      <td>0</td>\n",
       "      <td>0</td>\n",
       "      <td>0</td>\n",
       "      <td>0</td>\n",
       "      <td>0</td>\n",
       "      <td>0</td>\n",
       "    </tr>\n",
       "    <tr>\n",
       "      <th>3</th>\n",
       "      <td>3</td>\n",
       "      <td>aresef</td>\n",
       "      <td>0</td>\n",
       "      <td>Congressional Republicans Grill Postmaster Gen...</td>\n",
       "      <td>0</td>\n",
       "      <td>0</td>\n",
       "      <td>0</td>\n",
       "      <td>0</td>\n",
       "      <td>0</td>\n",
       "      <td>0</td>\n",
       "      <td>...</td>\n",
       "      <td>0</td>\n",
       "      <td>0</td>\n",
       "      <td>0</td>\n",
       "      <td>0</td>\n",
       "      <td>0</td>\n",
       "      <td>0</td>\n",
       "      <td>0</td>\n",
       "      <td>0</td>\n",
       "      <td>0</td>\n",
       "      <td>0</td>\n",
       "    </tr>\n",
       "    <tr>\n",
       "      <th>4</th>\n",
       "      <td>4</td>\n",
       "      <td>aresef</td>\n",
       "      <td>0</td>\n",
       "      <td>Watchdog Groups Urge Bob Evans To Create Emerg...</td>\n",
       "      <td>0</td>\n",
       "      <td>0</td>\n",
       "      <td>0</td>\n",
       "      <td>0</td>\n",
       "      <td>0</td>\n",
       "      <td>0</td>\n",
       "      <td>...</td>\n",
       "      <td>0</td>\n",
       "      <td>0</td>\n",
       "      <td>0</td>\n",
       "      <td>0</td>\n",
       "      <td>0</td>\n",
       "      <td>0</td>\n",
       "      <td>0</td>\n",
       "      <td>0</td>\n",
       "      <td>0</td>\n",
       "      <td>0</td>\n",
       "    </tr>\n",
       "  </tbody>\n",
       "</table>\n",
       "<p>5 rows × 5004 columns</p>\n",
       "</div>"
      ],
      "text/plain": [
       "   Unnamed: 0               author  subreddit  \\\n",
       "0           0  ManofTheNightsWatch          0   \n",
       "1           1              Sanlear          0   \n",
       "2           2               aresef          0   \n",
       "3           3               aresef          0   \n",
       "4           4               aresef          0   \n",
       "\n",
       "                                               title  000  0320  08  10  100  \\\n",
       "0  Severely Injured Woman Heroically Fights Off P...    0     0   0   0    0   \n",
       "1  Frat President Chews Out Brothers Infected Wit...    0     0   0   0    0   \n",
       "2  Jim Harbaugh Annoyed He Only Got $5.89 For Sel...    0     0   0   0    0   \n",
       "3  Congressional Republicans Grill Postmaster Gen...    0     0   0   0    0   \n",
       "4  Watchdog Groups Urge Bob Evans To Create Emerg...    0     0   0   0    0   \n",
       "\n",
       "   10th  ...  வந  வன  வமன  வர  வரத  வல  வழ  வழக  வழங  ஷன  \n",
       "0     0  ...   0   0    0   0    0   0   0    0    0   0  \n",
       "1     0  ...   0   0    0   0    0   0   0    0    0   0  \n",
       "2     0  ...   0   0    0   0    0   0   0    0    0   0  \n",
       "3     0  ...   0   0    0   0    0   0   0    0    0   0  \n",
       "4     0  ...   0   0    0   0    0   0   0    0    0   0  \n",
       "\n",
       "[5 rows x 5004 columns]"
      ]
     },
     "execution_count": 3,
     "metadata": {},
     "output_type": "execute_result"
    }
   ],
   "source": [
    "posts_df_vec = pd.read_csv('./data/posts_df_vec.csv')\n",
    "posts_df_vec.head()"
   ]
  },
  {
   "cell_type": "code",
   "execution_count": 4,
   "metadata": {},
   "outputs": [],
   "source": [
    "X = posts_df_vec.drop(columns=['Unnamed: 0', 'author', 'subreddit', 'title'])\n",
    "y = posts_df_vec['subreddit']\n",
    "X_train, X_test, y_train, y_test = train_test_split(X,y,random_state=17, stratify=y)"
   ]
  },
  {
   "cell_type": "code",
   "execution_count": 5,
   "metadata": {},
   "outputs": [
    {
     "data": {
      "text/plain": [
       "KNeighborsClassifier(algorithm='auto', leaf_size=30, metric='euclidean',\n",
       "                     metric_params=None, n_jobs=None, n_neighbors=6, p=2,\n",
       "                     weights='uniform')"
      ]
     },
     "execution_count": 5,
     "metadata": {},
     "output_type": "execute_result"
    }
   ],
   "source": [
    "knn = KNeighborsClassifier(n_neighbors=6, metric='euclidean')\n",
    "knn.fit(X_train, y_train)"
   ]
  },
  {
   "cell_type": "code",
   "execution_count": 6,
   "metadata": {},
   "outputs": [
    {
     "name": "stdout",
     "output_type": "stream",
     "text": [
      "KNN Train Score: 0.7986257928118393\n",
      "KNN Test Score: 0.649669749009247\n"
     ]
    }
   ],
   "source": [
    "print(f'KNN Train Score: {knn.score(X_train, y_train)}')\n",
    "print(f'KNN Test Score: {knn.score(X_test, y_test)}')"
   ]
  },
  {
   "cell_type": "code",
   "execution_count": 7,
   "metadata": {},
   "outputs": [],
   "source": [
    "#This is not a great score, so most likely I will not use it, depending on the scores of my other models"
   ]
  },
  {
   "cell_type": "markdown",
   "metadata": {},
   "source": [
    "I ran my optimized KNN model, but have decided not to use it futher due to low accuracy scores"
   ]
  }
 ],
 "metadata": {
  "kernelspec": {
   "display_name": "Python 3",
   "language": "python",
   "name": "python3"
  },
  "language_info": {
   "codemirror_mode": {
    "name": "ipython",
    "version": 3
   },
   "file_extension": ".py",
   "mimetype": "text/x-python",
   "name": "python",
   "nbconvert_exporter": "python",
   "pygments_lexer": "ipython3",
   "version": "3.7.6"
  }
 },
 "nbformat": 4,
 "nbformat_minor": 4
}
